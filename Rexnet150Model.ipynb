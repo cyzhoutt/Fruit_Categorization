{
  "nbformat": 4,
  "nbformat_minor": 0,
  "metadata": {
    "colab": {
      "provenance": [],
      "gpuType": "T4"
    },
    "kernelspec": {
      "name": "python3",
      "display_name": "Python 3"
    },
    "language_info": {
      "name": "python"
    },
    "accelerator": "GPU"
  },
  "cells": [
    {
      "cell_type": "code",
      "execution_count": 1,
      "metadata": {
        "colab": {
          "base_uri": "https://localhost:8080/"
        },
        "id": "KMzSmPc2HuBs",
        "outputId": "9d132337-b5e7-4835-a7c1-4e6ad75bc198"
      },
      "outputs": [
        {
          "output_type": "stream",
          "name": "stdout",
          "text": [
            "Collecting timm\n",
            "  Downloading timm-1.0.3-py3-none-any.whl (2.3 MB)\n",
            "\u001b[2K     \u001b[90m━━━━━━━━━━━━━━━━━━━━━━━━━━━━━━━━━━━━━━━━\u001b[0m \u001b[32m2.3/2.3 MB\u001b[0m \u001b[31m11.8 MB/s\u001b[0m eta \u001b[36m0:00:00\u001b[0m\n",
            "\u001b[?25hRequirement already satisfied: torch in /usr/local/lib/python3.10/dist-packages (from timm) (2.3.0+cu121)\n",
            "Requirement already satisfied: torchvision in /usr/local/lib/python3.10/dist-packages (from timm) (0.18.0+cu121)\n",
            "Requirement already satisfied: pyyaml in /usr/local/lib/python3.10/dist-packages (from timm) (6.0.1)\n",
            "Requirement already satisfied: huggingface_hub in /usr/local/lib/python3.10/dist-packages (from timm) (0.23.2)\n",
            "Requirement already satisfied: safetensors in /usr/local/lib/python3.10/dist-packages (from timm) (0.4.3)\n",
            "Requirement already satisfied: filelock in /usr/local/lib/python3.10/dist-packages (from huggingface_hub->timm) (3.14.0)\n",
            "Requirement already satisfied: fsspec>=2023.5.0 in /usr/local/lib/python3.10/dist-packages (from huggingface_hub->timm) (2023.6.0)\n",
            "Requirement already satisfied: packaging>=20.9 in /usr/local/lib/python3.10/dist-packages (from huggingface_hub->timm) (24.0)\n",
            "Requirement already satisfied: requests in /usr/local/lib/python3.10/dist-packages (from huggingface_hub->timm) (2.31.0)\n",
            "Requirement already satisfied: tqdm>=4.42.1 in /usr/local/lib/python3.10/dist-packages (from huggingface_hub->timm) (4.66.4)\n",
            "Requirement already satisfied: typing-extensions>=3.7.4.3 in /usr/local/lib/python3.10/dist-packages (from huggingface_hub->timm) (4.12.0)\n",
            "Requirement already satisfied: sympy in /usr/local/lib/python3.10/dist-packages (from torch->timm) (1.12.1)\n",
            "Requirement already satisfied: networkx in /usr/local/lib/python3.10/dist-packages (from torch->timm) (3.3)\n",
            "Requirement already satisfied: jinja2 in /usr/local/lib/python3.10/dist-packages (from torch->timm) (3.1.4)\n",
            "Collecting nvidia-cuda-nvrtc-cu12==12.1.105 (from torch->timm)\n",
            "  Using cached nvidia_cuda_nvrtc_cu12-12.1.105-py3-none-manylinux1_x86_64.whl (23.7 MB)\n",
            "Collecting nvidia-cuda-runtime-cu12==12.1.105 (from torch->timm)\n",
            "  Using cached nvidia_cuda_runtime_cu12-12.1.105-py3-none-manylinux1_x86_64.whl (823 kB)\n",
            "Collecting nvidia-cuda-cupti-cu12==12.1.105 (from torch->timm)\n",
            "  Using cached nvidia_cuda_cupti_cu12-12.1.105-py3-none-manylinux1_x86_64.whl (14.1 MB)\n",
            "Collecting nvidia-cudnn-cu12==8.9.2.26 (from torch->timm)\n",
            "  Using cached nvidia_cudnn_cu12-8.9.2.26-py3-none-manylinux1_x86_64.whl (731.7 MB)\n",
            "Collecting nvidia-cublas-cu12==12.1.3.1 (from torch->timm)\n",
            "  Using cached nvidia_cublas_cu12-12.1.3.1-py3-none-manylinux1_x86_64.whl (410.6 MB)\n",
            "Collecting nvidia-cufft-cu12==11.0.2.54 (from torch->timm)\n",
            "  Using cached nvidia_cufft_cu12-11.0.2.54-py3-none-manylinux1_x86_64.whl (121.6 MB)\n",
            "Collecting nvidia-curand-cu12==10.3.2.106 (from torch->timm)\n",
            "  Using cached nvidia_curand_cu12-10.3.2.106-py3-none-manylinux1_x86_64.whl (56.5 MB)\n",
            "Collecting nvidia-cusolver-cu12==11.4.5.107 (from torch->timm)\n",
            "  Using cached nvidia_cusolver_cu12-11.4.5.107-py3-none-manylinux1_x86_64.whl (124.2 MB)\n",
            "Collecting nvidia-cusparse-cu12==12.1.0.106 (from torch->timm)\n",
            "  Using cached nvidia_cusparse_cu12-12.1.0.106-py3-none-manylinux1_x86_64.whl (196.0 MB)\n",
            "Collecting nvidia-nccl-cu12==2.20.5 (from torch->timm)\n",
            "  Using cached nvidia_nccl_cu12-2.20.5-py3-none-manylinux2014_x86_64.whl (176.2 MB)\n",
            "Collecting nvidia-nvtx-cu12==12.1.105 (from torch->timm)\n",
            "  Using cached nvidia_nvtx_cu12-12.1.105-py3-none-manylinux1_x86_64.whl (99 kB)\n",
            "Requirement already satisfied: triton==2.3.0 in /usr/local/lib/python3.10/dist-packages (from torch->timm) (2.3.0)\n",
            "Collecting nvidia-nvjitlink-cu12 (from nvidia-cusolver-cu12==11.4.5.107->torch->timm)\n",
            "  Downloading nvidia_nvjitlink_cu12-12.5.40-py3-none-manylinux2014_x86_64.whl (21.3 MB)\n",
            "\u001b[2K     \u001b[90m━━━━━━━━━━━━━━━━━━━━━━━━━━━━━━━━━━━━━━━━\u001b[0m \u001b[32m21.3/21.3 MB\u001b[0m \u001b[31m66.4 MB/s\u001b[0m eta \u001b[36m0:00:00\u001b[0m\n",
            "\u001b[?25hRequirement already satisfied: numpy in /usr/local/lib/python3.10/dist-packages (from torchvision->timm) (1.25.2)\n",
            "Requirement already satisfied: pillow!=8.3.*,>=5.3.0 in /usr/local/lib/python3.10/dist-packages (from torchvision->timm) (9.4.0)\n",
            "Requirement already satisfied: MarkupSafe>=2.0 in /usr/local/lib/python3.10/dist-packages (from jinja2->torch->timm) (2.1.5)\n",
            "Requirement already satisfied: charset-normalizer<4,>=2 in /usr/local/lib/python3.10/dist-packages (from requests->huggingface_hub->timm) (3.3.2)\n",
            "Requirement already satisfied: idna<4,>=2.5 in /usr/local/lib/python3.10/dist-packages (from requests->huggingface_hub->timm) (3.7)\n",
            "Requirement already satisfied: urllib3<3,>=1.21.1 in /usr/local/lib/python3.10/dist-packages (from requests->huggingface_hub->timm) (2.0.7)\n",
            "Requirement already satisfied: certifi>=2017.4.17 in /usr/local/lib/python3.10/dist-packages (from requests->huggingface_hub->timm) (2024.2.2)\n",
            "Requirement already satisfied: mpmath<1.4.0,>=1.1.0 in /usr/local/lib/python3.10/dist-packages (from sympy->torch->timm) (1.3.0)\n",
            "Installing collected packages: nvidia-nvtx-cu12, nvidia-nvjitlink-cu12, nvidia-nccl-cu12, nvidia-curand-cu12, nvidia-cufft-cu12, nvidia-cuda-runtime-cu12, nvidia-cuda-nvrtc-cu12, nvidia-cuda-cupti-cu12, nvidia-cublas-cu12, nvidia-cusparse-cu12, nvidia-cudnn-cu12, nvidia-cusolver-cu12, timm\n",
            "Successfully installed nvidia-cublas-cu12-12.1.3.1 nvidia-cuda-cupti-cu12-12.1.105 nvidia-cuda-nvrtc-cu12-12.1.105 nvidia-cuda-runtime-cu12-12.1.105 nvidia-cudnn-cu12-8.9.2.26 nvidia-cufft-cu12-11.0.2.54 nvidia-curand-cu12-10.3.2.106 nvidia-cusolver-cu12-11.4.5.107 nvidia-cusparse-cu12-12.1.0.106 nvidia-nccl-cu12-2.20.5 nvidia-nvjitlink-cu12-12.5.40 nvidia-nvtx-cu12-12.1.105 timm-1.0.3\n"
          ]
        }
      ],
      "source": [
        "!pip install timm\n",
        "\n",
        "import zipfile\n",
        "import os\n",
        "import timm\n",
        "import torch\n",
        "import torch.nn as nn\n",
        "import torch.optim as optim\n",
        "import torch.nn.functional as F\n",
        "import pandas as pd\n",
        "from PIL import Image\n",
        "from torch.utils.data import Dataset, DataLoader\n",
        "from torchvision import transforms\n",
        "from tqdm import tqdm\n",
        "import matplotlib.pyplot as plt\n",
        "from google.colab import drive"
      ]
    },
    {
      "cell_type": "code",
      "source": [
        "drive.mount('/content/drive')\n",
        "zip = zipfile.ZipFile('/content/drive/MyDrive/archive.zip','r')\n",
        "zip.extractall('/tmp')\n",
        "zip.close()"
      ],
      "metadata": {
        "colab": {
          "base_uri": "https://localhost:8080/"
        },
        "id": "lZ9Ja6MAIWcd",
        "outputId": "21d4a5be-8c7d-4a2e-dfa9-b4dc375730d7"
      },
      "execution_count": 2,
      "outputs": [
        {
          "output_type": "stream",
          "name": "stdout",
          "text": [
            "Mounted at /content/drive\n"
          ]
        }
      ]
    },
    {
      "cell_type": "code",
      "source": [
        "########################################################################\n",
        "# Custom Dataset Class\n",
        "\n",
        "class FruitDataset(Dataset):\n",
        "    def __init__(self, csv_file, root_dir, transform=None):\n",
        "        self.annotations = pd.read_csv(csv_file)\n",
        "        self.root_dir = root_dir\n",
        "        self.transform = transform\n",
        "\n",
        "    def __len__(self):\n",
        "        return len(self.annotations)\n",
        "\n",
        "    def __getitem__(self, idx):\n",
        "        img_path = os.path.join(self.root_dir, self.annotations.iloc[idx, 0])\n",
        "        image = Image.open(img_path).convert(\"RGB\")\n",
        "        label = int(self.annotations.iloc[idx, 1])\n",
        "\n",
        "        if self.transform:\n",
        "            image = self.transform(image)\n",
        "\n",
        "        return image, label\n",
        "\n",
        "########################################################################\n",
        "# Transforms\n",
        "\n",
        "resize_size = 224  # Resize images to 224x224 pixels\n",
        "\n",
        "transform_train = transforms.Compose([\n",
        "    transforms.Resize((resize_size, resize_size)),\n",
        "    transforms.RandomResizedCrop(resize_size),\n",
        "    transforms.RandomHorizontalFlip(),\n",
        "    transforms.ToTensor(),\n",
        "    transforms.Normalize((0.485, 0.456, 0.406), (0.229, 0.224, 0.225)),\n",
        "])\n",
        "\n",
        "transform_test = transforms.Compose([\n",
        "    transforms.Resize((resize_size, resize_size)),\n",
        "    transforms.ToTensor(),\n",
        "    transforms.Normalize((0.485, 0.456, 0.406), (0.229, 0.224, 0.225)),\n",
        "])\n",
        "\n",
        "########################################################################\n",
        "# Create Datasets and DataLoaders\n",
        "\n",
        "train_dataset = FruitDataset(csv_file='/tmp/train.csv', root_dir='/tmp', transform=transform_train)\n",
        "val_dataset = FruitDataset(csv_file='/tmp/val.csv', root_dir='/tmp', transform=transform_test)\n",
        "test_dataset = FruitDataset(csv_file='/tmp/test.csv', root_dir='/tmp', transform=transform_test)\n",
        "\n",
        "train_loader = DataLoader(train_dataset, batch_size=4, shuffle=True, num_workers=2)\n",
        "val_loader = DataLoader(val_dataset, batch_size=4, shuffle=False, num_workers=2)\n",
        "test_loader = DataLoader(test_dataset, batch_size=4, shuffle=False, num_workers=2)\n",
        "\n",
        "########################################################################\n",
        "# Determine the number of classes\n",
        "num_classes = len(pd.read_csv('/tmp/train.csv')['category'].unique())\n",
        "\n",
        "########################################################################\n",
        "# Define a Neural Network\n",
        "\n",
        "# Use timm to load a pre-trained model\n",
        "m = timm.create_model(\"rexnet_150\", pretrained=True, num_classes=num_classes)\n",
        "\n",
        "########################################################################\n",
        "# Define a function for training setup\n",
        "\n",
        "def train_setup(m):\n",
        "    device = torch.device(\"cuda\" if torch.cuda.is_available() else \"cpu\")\n",
        "    return m.to(device), 10, device, nn.CrossEntropyLoss(), optim.Adam(params=m.parameters(), lr=3e-4)\n",
        "\n",
        "def to_device(batch, device):\n",
        "    return batch[0].to(device), batch[1].to(device)\n",
        "\n",
        "def get_metrics(model, ims, gts, loss_fn, epoch_loss, epoch_acc):\n",
        "    preds = model(ims)\n",
        "    loss = loss_fn(preds, gts)\n",
        "    return loss, epoch_loss + loss.item(), epoch_acc + (torch.argmax(preds, dim=1) == gts).sum().item()\n",
        "\n",
        "m, epochs, device, loss_fn, optimizer = train_setup(m)\n",
        "\n",
        "########################################################################\n",
        "# Training Loop\n",
        "\n",
        "save_prefix, save_dir = \"fruits\", \"saved_models\"\n",
        "print(\"Start training...\")\n",
        "best_acc, best_loss, threshold = 0, float(\"inf\"), 0.01\n",
        "tr_losses, val_losses, tr_accs, val_accs, test_accs = [], [], [], [], []\n",
        "\n",
        "for epoch in range(epochs):\n",
        "\n",
        "    # Training Phase\n",
        "    epoch_loss, epoch_acc = 0, 0\n",
        "    m.train()\n",
        "    for idx, batch in tqdm(enumerate(train_loader)):\n",
        "        ims, gts = to_device(batch, device)\n",
        "        optimizer.zero_grad()\n",
        "        loss, epoch_loss, epoch_acc = get_metrics(m, ims, gts, loss_fn, epoch_loss, epoch_acc)\n",
        "        loss.backward()\n",
        "        optimizer.step()\n",
        "\n",
        "    tr_loss_to_track = epoch_loss / len(train_loader)\n",
        "    tr_acc_to_track = epoch_acc / len(train_loader.dataset)\n",
        "    tr_losses.append(tr_loss_to_track)\n",
        "    tr_accs.append(tr_acc_to_track)\n",
        "\n",
        "    print(f\"{epoch + 1}-epoch train process is completed!\\n\")\n",
        "    print(f\"{epoch + 1}-epoch train loss          -> {tr_loss_to_track:.3f}\")\n",
        "    print(f\"{epoch + 1}-epoch train accuracy      -> {tr_acc_to_track:.3f}\")\n",
        "\n",
        "    # Validation Phase\n",
        "    m.eval()\n",
        "    with torch.no_grad():\n",
        "        val_epoch_loss, val_epoch_acc = 0, 0\n",
        "        for idx, batch in enumerate(val_loader):\n",
        "            ims, gts = to_device(batch, device)\n",
        "            loss, val_epoch_loss, val_epoch_acc = get_metrics(m, ims, gts, loss_fn, val_epoch_loss, val_epoch_acc)\n",
        "\n",
        "        val_loss_to_track = val_epoch_loss / len(val_loader)\n",
        "        val_acc_to_track = val_epoch_acc / len(val_loader.dataset)\n",
        "        val_losses.append(val_loss_to_track)\n",
        "        val_accs.append(val_acc_to_track)\n",
        "\n",
        "        print(f\"{epoch + 1}-epoch validation process is completed!\")\n",
        "        print(f\"{epoch + 1}-epoch validation loss     -> {val_loss_to_track:.3f}\")\n",
        "        print(f\"{epoch + 1}-epoch validation accuracy -> {val_acc_to_track:.3f} \\n\")\n",
        "\n",
        "        if val_loss_to_track < (best_loss + threshold):\n",
        "            os.makedirs(save_dir, exist_ok=True)\n",
        "            best_loss = val_loss_to_track\n",
        "            torch.save(m.state_dict(), f\"{save_dir}/{save_prefix}_best_model.pth\")\n",
        "\n",
        "print(\"Finished Training\")"
      ],
      "metadata": {
        "colab": {
          "base_uri": "https://localhost:8080/"
        },
        "id": "qwBGsbdvIbXu",
        "outputId": "f0668112-43eb-4dba-a0a8-9de964ed90d8"
      },
      "execution_count": 11,
      "outputs": [
        {
          "output_type": "stream",
          "name": "stdout",
          "text": [
            "Start training...\n"
          ]
        },
        {
          "output_type": "stream",
          "name": "stderr",
          "text": [
            "10000it [09:33, 17.42it/s]"
          ]
        },
        {
          "output_type": "stream",
          "name": "stdout",
          "text": [
            "1-epoch train process is completed!\n",
            "\n",
            "1-epoch train loss          -> 2.302\n",
            "1-epoch train accuracy      -> 0.419\n"
          ]
        },
        {
          "output_type": "stream",
          "name": "stderr",
          "text": [
            "\n"
          ]
        },
        {
          "output_type": "stream",
          "name": "stdout",
          "text": [
            "1-epoch validation process is completed!\n",
            "1-epoch validation loss     -> 1.474\n",
            "1-epoch validation accuracy -> 0.626 \n",
            "\n"
          ]
        },
        {
          "output_type": "stream",
          "name": "stderr",
          "text": [
            "10000it [09:24, 17.73it/s]"
          ]
        },
        {
          "output_type": "stream",
          "name": "stdout",
          "text": [
            "2-epoch train process is completed!\n",
            "\n",
            "2-epoch train loss          -> 1.535\n",
            "2-epoch train accuracy      -> 0.583\n"
          ]
        },
        {
          "output_type": "stream",
          "name": "stderr",
          "text": [
            "\n"
          ]
        },
        {
          "output_type": "stream",
          "name": "stdout",
          "text": [
            "2-epoch validation process is completed!\n",
            "2-epoch validation loss     -> 1.242\n",
            "2-epoch validation accuracy -> 0.691 \n",
            "\n"
          ]
        },
        {
          "output_type": "stream",
          "name": "stderr",
          "text": [
            "10000it [09:28, 17.59it/s]"
          ]
        },
        {
          "output_type": "stream",
          "name": "stdout",
          "text": [
            "3-epoch train process is completed!\n",
            "\n",
            "3-epoch train loss          -> 1.326\n",
            "3-epoch train accuracy      -> 0.635\n"
          ]
        },
        {
          "output_type": "stream",
          "name": "stderr",
          "text": [
            "\n"
          ]
        },
        {
          "output_type": "stream",
          "name": "stdout",
          "text": [
            "3-epoch validation process is completed!\n",
            "3-epoch validation loss     -> 1.203\n",
            "3-epoch validation accuracy -> 0.714 \n",
            "\n"
          ]
        },
        {
          "output_type": "stream",
          "name": "stderr",
          "text": [
            "10000it [09:26, 17.66it/s]"
          ]
        },
        {
          "output_type": "stream",
          "name": "stdout",
          "text": [
            "4-epoch train process is completed!\n",
            "\n",
            "4-epoch train loss          -> 1.205\n",
            "4-epoch train accuracy      -> 0.662\n"
          ]
        },
        {
          "output_type": "stream",
          "name": "stderr",
          "text": [
            "\n"
          ]
        },
        {
          "output_type": "stream",
          "name": "stdout",
          "text": [
            "4-epoch validation process is completed!\n",
            "4-epoch validation loss     -> 1.028\n",
            "4-epoch validation accuracy -> 0.746 \n",
            "\n"
          ]
        },
        {
          "output_type": "stream",
          "name": "stderr",
          "text": [
            "10000it [09:29, 17.57it/s]"
          ]
        },
        {
          "output_type": "stream",
          "name": "stdout",
          "text": [
            "5-epoch train process is completed!\n",
            "\n",
            "5-epoch train loss          -> 1.120\n",
            "5-epoch train accuracy      -> 0.684\n"
          ]
        },
        {
          "output_type": "stream",
          "name": "stderr",
          "text": [
            "\n"
          ]
        },
        {
          "output_type": "stream",
          "name": "stdout",
          "text": [
            "5-epoch validation process is completed!\n",
            "5-epoch validation loss     -> 0.983\n",
            "5-epoch validation accuracy -> 0.760 \n",
            "\n"
          ]
        },
        {
          "output_type": "stream",
          "name": "stderr",
          "text": [
            "10000it [09:28, 17.58it/s]"
          ]
        },
        {
          "output_type": "stream",
          "name": "stdout",
          "text": [
            "6-epoch train process is completed!\n",
            "\n",
            "6-epoch train loss          -> 1.069\n",
            "6-epoch train accuracy      -> 0.695\n"
          ]
        },
        {
          "output_type": "stream",
          "name": "stderr",
          "text": [
            "\n"
          ]
        },
        {
          "output_type": "stream",
          "name": "stdout",
          "text": [
            "6-epoch validation process is completed!\n",
            "6-epoch validation loss     -> 1.005\n",
            "6-epoch validation accuracy -> 0.758 \n",
            "\n"
          ]
        },
        {
          "output_type": "stream",
          "name": "stderr",
          "text": [
            "10000it [09:31, 17.51it/s]"
          ]
        },
        {
          "output_type": "stream",
          "name": "stdout",
          "text": [
            "7-epoch train process is completed!\n",
            "\n",
            "7-epoch train loss          -> 1.005\n",
            "7-epoch train accuracy      -> 0.711\n"
          ]
        },
        {
          "output_type": "stream",
          "name": "stderr",
          "text": [
            "\n"
          ]
        },
        {
          "output_type": "stream",
          "name": "stdout",
          "text": [
            "7-epoch validation process is completed!\n",
            "7-epoch validation loss     -> 1.002\n",
            "7-epoch validation accuracy -> 0.759 \n",
            "\n"
          ]
        },
        {
          "output_type": "stream",
          "name": "stderr",
          "text": [
            "10000it [09:27, 17.62it/s]"
          ]
        },
        {
          "output_type": "stream",
          "name": "stdout",
          "text": [
            "8-epoch train process is completed!\n",
            "\n",
            "8-epoch train loss          -> 0.973\n",
            "8-epoch train accuracy      -> 0.723\n"
          ]
        },
        {
          "output_type": "stream",
          "name": "stderr",
          "text": [
            "\n"
          ]
        },
        {
          "output_type": "stream",
          "name": "stdout",
          "text": [
            "8-epoch validation process is completed!\n",
            "8-epoch validation loss     -> 1.054\n",
            "8-epoch validation accuracy -> 0.751 \n",
            "\n"
          ]
        },
        {
          "output_type": "stream",
          "name": "stderr",
          "text": [
            "10000it [09:28, 17.60it/s]"
          ]
        },
        {
          "output_type": "stream",
          "name": "stdout",
          "text": [
            "9-epoch train process is completed!\n",
            "\n",
            "9-epoch train loss          -> 0.925\n",
            "9-epoch train accuracy      -> 0.735\n"
          ]
        },
        {
          "output_type": "stream",
          "name": "stderr",
          "text": [
            "\n"
          ]
        },
        {
          "output_type": "stream",
          "name": "stdout",
          "text": [
            "9-epoch validation process is completed!\n",
            "9-epoch validation loss     -> 0.950\n",
            "9-epoch validation accuracy -> 0.765 \n",
            "\n"
          ]
        },
        {
          "output_type": "stream",
          "name": "stderr",
          "text": [
            "10000it [09:22, 17.79it/s]"
          ]
        },
        {
          "output_type": "stream",
          "name": "stdout",
          "text": [
            "10-epoch train process is completed!\n",
            "\n",
            "10-epoch train loss          -> 0.895\n",
            "10-epoch train accuracy      -> 0.742\n"
          ]
        },
        {
          "output_type": "stream",
          "name": "stderr",
          "text": [
            "\n"
          ]
        },
        {
          "output_type": "stream",
          "name": "stdout",
          "text": [
            "10-epoch validation process is completed!\n",
            "10-epoch validation loss     -> 0.932\n",
            "10-epoch validation accuracy -> 0.772 \n",
            "\n",
            "Finished Training\n"
          ]
        }
      ]
    },
    {
      "cell_type": "code",
      "source": [
        "\n",
        "# Plot the results\n",
        "epochs = range(1, len(tr_losses) + 1)\n",
        "\n",
        "plt.figure(figsize=(12, 8))\n",
        "\n",
        "# Plot Training and Validation Loss\n",
        "plt.subplot(2, 1, 1)\n",
        "plt.plot(epochs, tr_losses, label='Training Loss')\n",
        "plt.plot(epochs, val_losses, label='Validation Loss')\n",
        "plt.xlabel('Epoch')\n",
        "plt.ylabel('Loss')\n",
        "plt.title('Training and Validation Loss')\n",
        "plt.legend()\n",
        "\n",
        "# Plot Training and Validation Accuracy\n",
        "plt.subplot(2, 1, 2)\n",
        "plt.plot(epochs, tr_accs, label='Training Accuracy', color='g')\n",
        "plt.plot(epochs, val_accs, label='Validation Accuracy', color='b')\n",
        "plt.xlabel('Epoch')\n",
        "plt.ylabel('Accuracy (%)')\n",
        "plt.title('Training and Validation Accuracy')\n",
        "plt.legend()\n",
        "\n",
        "plt.tight_layout()\n",
        "plt.show()"
      ],
      "metadata": {
        "colab": {
          "base_uri": "https://localhost:8080/",
          "height": 807
        },
        "id": "h1yRVf2oIdt1",
        "outputId": "e8235268-d16c-47ff-8b20-153bca8a273f"
      },
      "execution_count": 12,
      "outputs": [
        {
          "output_type": "display_data",
          "data": {
            "text/plain": [
              "<Figure size 1200x800 with 2 Axes>"
            ],
            "image/png": "[encoded data removed]"
          },
          "metadata": {}
        }
      ]
    }
  ]
}
